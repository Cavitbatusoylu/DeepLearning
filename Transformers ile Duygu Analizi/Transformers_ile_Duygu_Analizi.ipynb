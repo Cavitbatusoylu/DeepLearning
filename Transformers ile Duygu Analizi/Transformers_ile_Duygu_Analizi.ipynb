{
 "cells": [
  {
   "cell_type": "code",
   "execution_count": 57,
   "id": "86ae6977-2d23-4182-8603-46a1421db386",
   "metadata": {},
   "outputs": [
    {
     "name": "stdout",
     "output_type": "stream",
     "text": [
      "Yorum: nothing also last this of how star music is actually being comedy lazy this us because scenes of how star stories it used monkeys of hollywood it out by both sad <UNK> london scenes music point so stopped totally this of meant similar if is silent character <UNK> is <UNK> <UNK> is manner <UNK> it's which of brilliant simple who <UNK> wondering more he is quite br hour for he tooth do movies just of do behind tune ballet are random pulled film is late it's of happens fills they of scenes awakening brilliance gets was had asked as on\n",
      "Etiket: 0\n",
      "\n",
      "Yorum: <UNK> br blockbuster was with ray what was can't of casts explained she them was <UNK> is laced br gonna in can whether brilliantly this is scenes film of nobody cocktail searching to contribute genius as it never <UNK> are who context is got t monday <UNK> goofy slug dvd's it singer has be satire her would bates made is naturally watchable peoples 0 was after people comedy of teen alex almost written it's of ample sent music by very recommend scenes may monday to 0 not if his very that's in looked as you i i only 100 kills\n",
      "Etiket: 0\n",
      "\n",
      "Yorum: are remember performance left to was else after his looking when was with wife knows <UNK> it has so magic aspect say <UNK> integral to be growing but be press editing like there will million dictator who breakdown gives <UNK> of complete love you'll becomes impression to tried he <UNK> camera film is annoying oh describe for there in at by br of sure stand 7 br an my i i take more it by uncle <UNK> suffer <UNK> or ryan those importantly it this of you written is producer do feel let's wonder typical as perfectly they an cash\n",
      "Etiket: 0\n",
      "\n"
     ]
    }
   ],
   "source": [
    "# %% load data and preprocessing\n",
    "import numpy as np\n",
    "import matplotlib.pyplot as plt\n",
    "\n",
    "import tensorflow as tf\n",
    "from tensorflow.keras import layers, models\n",
    "from tensorflow.keras.datasets import imdb\n",
    "from tensorflow.keras.preprocessing.sequence import pad_sequences\n",
    "\n",
    "import warnings\n",
    "warnings.filterwarnings(\"ignore\")\n",
    "\n",
    "# Veri seti yukleme\n",
    "max_features = 10000 # en cok kullanilan 10000\n",
    "maxlen = 100 #her yorumun max uzunlugu\n",
    "\n",
    "# imdb veri yuklemesi\n",
    "(x_train,y_train), (x_test,y_test) = imdb.load_data(num_words = max_features)\n",
    "\n",
    "# Sabit uzunlukta padding uygula\n",
    "x_train = pad_sequences(x_train, maxlen=maxlen)\n",
    "x_test = pad_sequences(x_test, maxlen=maxlen)\n",
    "\n",
    "# Veri inceleme\n",
    "word_index = imdb.get_word_index()\n",
    "\n",
    "# kelime dizisini geri dondurmek icin ters cevirelim\n",
    "reverse_word_index = {index: word for word, index in word_index.items()}\n",
    "reverse_word_index[0] = \"<PAD>\" # pad ile eslestir\n",
    "reverse_word_index[1] = \"<START>\"\n",
    "reverse_word_index[2] = \"<UNK>\"\n",
    "reverse_word_index[3] = \"<UNUSED>\"\n",
    "\n",
    "# ornek metinleri yazdirma\n",
    "def decode_review(encoded_review):\n",
    "    return \" \".join([reverse_word_index.get(i, \"?\") for i in encoded_review])\n",
    "\n",
    "# rastgele 3 ornek yazdiralim\n",
    "random_indices = np.random.choice(len(x_train), size = 3, replace = False)\n",
    "\n",
    "for i in random_indices:\n",
    "    print(f\"Yorum: {decode_review(x_train[i])}\")\n",
    "    print(f\"Etiket: {y_train[i]}\")\n",
    "    print()"
   ]
  },
  {
   "cell_type": "code",
   "execution_count": 81,
   "id": "78cec9f7-0a62-4412-8447-60fe541342b8",
   "metadata": {},
   "outputs": [],
   "source": [
    "# Transformers katmani tanimlanmasi\n",
    "\n",
    "# transformer mimarisindeki bir blok yapi sinifi\n",
    "# bu blok self-attention ve feed forward agini birlestirecek\n",
    "class TransformerBlock(layers.Layer):\n",
    "    \n",
    "    # embed_size: giristteki embedding mekanizmasında vektorlerinin boyutu\n",
    "    # heads: multi head attention mekanizmasinda kullanilacak olan baslik sayisi\n",
    "    # dropout_rate: agirliklarin sifirlanma orani overfittingi engelleme yönetemlerinden biri\n",
    "    def __init__(self, embed_size, heads, dropout_rate = 0.3):\n",
    "    \n",
    "        # ust sinifimiz olan layers.layer sinifinin init metodunu cagirarak temel katman ozellikleri sahip oluyoruz\n",
    "        super(TransformerBlock, self).__init__()\n",
    "\n",
    "        # multi head: dikkat mekanizmasi\n",
    "        # num_heads: baslik sayisi(ayni anda kac farkli dikkat hesaplamasi yapacagimizi belirleyebiliriz)\n",
    "        # key_dim: her dikkak basliginda kullanilan anahtar boyutu\n",
    "        self.attention = layers.MultiHeadAttention(num_heads=heads, key_dim=embed_size)\n",
    "\n",
    "        # normalizasyon katmani: epsilonn sayisal kararlilik arttirmak iicin kullanilir\n",
    "        self.norm1 = layers.LayerNormalization(epsilon = 1e-6)\n",
    "        self.norm2 = layers.LayerNormalization(epsilon = 1e-6)\n",
    "\n",
    "        self.feed_forward = models.Sequential([\n",
    "            layers.Dense(embed_size * heads, activation = \"relu\"),\n",
    "            layers.Dense(embed_size)]) #cikisi tekrar orijinal embed sayisina getirir\n",
    "\n",
    "        # overfitting i engellemek ici kullanilan katman\n",
    "        self.dropout1 = layers.Dropout(dropout_rate)\n",
    "        self.dropout2 = layers.Dropout(dropout_rate)\n",
    "\n",
    "    # call: girisin nasil islendigini tanimla yani transformer islevi\n",
    "    # x: giris vektorumuz\n",
    "    # training: egitim sirasinda drop out uygulayip uygulanmamasini belirle\n",
    "    def call(self, x, training=False):\n",
    "\n",
    "        # self attention mekanizmasi: her bir kelimenin diger kelimelerle baglam iliskisini ogrenir\n",
    "        attention = self.attention(x,x)\n",
    "\n",
    "        # residual baglantisi(skip connection)\n",
    "        # attention ciktisi orijinal giris olan x ile toplanir\n",
    "        x = self.norm1(x + self.dropout1(attention, training = training))\n",
    "\n",
    "        # feed forward agi\n",
    "        feed_forward = self.feed_forward(x)\n",
    "\n",
    "        # residual baglanti\n",
    "        return self.norm2(x + self.dropout2(feed_forward, training = training))"
   ]
  },
  {
   "cell_type": "code",
   "execution_count": 83,
   "id": "eac853a8-de9f-40d4-8c89-44c085de391d",
   "metadata": {},
   "outputs": [
    {
     "data": {
      "text/html": [
       "<pre style=\"white-space:pre;overflow-x:auto;line-height:normal;font-family:Menlo,'DejaVu Sans Mono',consolas,'Courier New',monospace\"><span style=\"font-weight: bold\">Model: \"transformer_model_22\"</span>\n",
       "</pre>\n"
      ],
      "text/plain": [
       "\u001b[1mModel: \"transformer_model_22\"\u001b[0m\n"
      ]
     },
     "metadata": {},
     "output_type": "display_data"
    },
    {
     "data": {
      "text/html": [
       "<pre style=\"white-space:pre;overflow-x:auto;line-height:normal;font-family:Menlo,'DejaVu Sans Mono',consolas,'Courier New',monospace\">┏━━━━━━━━━━━━━━━━━━━━━━━━━━━━━━━━━┳━━━━━━━━━━━━━━━━━━━━━━━━┳━━━━━━━━━━━━━━━┓\n",
       "┃<span style=\"font-weight: bold\"> Layer (type)                    </span>┃<span style=\"font-weight: bold\"> Output Shape           </span>┃<span style=\"font-weight: bold\">       Param # </span>┃\n",
       "┡━━━━━━━━━━━━━━━━━━━━━━━━━━━━━━━━━╇━━━━━━━━━━━━━━━━━━━━━━━━╇━━━━━━━━━━━━━━━┩\n",
       "│ embedding_22 (<span style=\"color: #0087ff; text-decoration-color: #0087ff\">Embedding</span>)        │ ?                      │   <span style=\"color: #00af00; text-decoration-color: #00af00\">0</span> (unbuilt) │\n",
       "├─────────────────────────────────┼────────────────────────┼───────────────┤\n",
       "│ transformer_block_53            │ ?                      │   <span style=\"color: #00af00; text-decoration-color: #00af00\">0</span> (unbuilt) │\n",
       "│ (<span style=\"color: #0087ff; text-decoration-color: #0087ff\">TransformerBlock</span>)              │                        │               │\n",
       "├─────────────────────────────────┼────────────────────────┼───────────────┤\n",
       "│ transformer_block_54            │ ?                      │   <span style=\"color: #00af00; text-decoration-color: #00af00\">0</span> (unbuilt) │\n",
       "│ (<span style=\"color: #0087ff; text-decoration-color: #0087ff\">TransformerBlock</span>)              │                        │               │\n",
       "├─────────────────────────────────┼────────────────────────┼───────────────┤\n",
       "│ transformer_block_55            │ ?                      │   <span style=\"color: #00af00; text-decoration-color: #00af00\">0</span> (unbuilt) │\n",
       "│ (<span style=\"color: #0087ff; text-decoration-color: #0087ff\">TransformerBlock</span>)              │                        │               │\n",
       "├─────────────────────────────────┼────────────────────────┼───────────────┤\n",
       "│ transformer_block_56            │ ?                      │   <span style=\"color: #00af00; text-decoration-color: #00af00\">0</span> (unbuilt) │\n",
       "│ (<span style=\"color: #0087ff; text-decoration-color: #0087ff\">TransformerBlock</span>)              │                        │               │\n",
       "├─────────────────────────────────┼────────────────────────┼───────────────┤\n",
       "│ global_average_pooling1d_13     │ ?                      │             <span style=\"color: #00af00; text-decoration-color: #00af00\">0</span> │\n",
       "│ (<span style=\"color: #0087ff; text-decoration-color: #0087ff\">GlobalAveragePooling1D</span>)        │                        │               │\n",
       "├─────────────────────────────────┼────────────────────────┼───────────────┤\n",
       "│ dropout_127 (<span style=\"color: #0087ff; text-decoration-color: #0087ff\">Dropout</span>)           │ ?                      │             <span style=\"color: #00af00; text-decoration-color: #00af00\">0</span> │\n",
       "├─────────────────────────────────┼────────────────────────┼───────────────┤\n",
       "│ dense_125 (<span style=\"color: #0087ff; text-decoration-color: #0087ff\">Dense</span>)               │ ?                      │   <span style=\"color: #00af00; text-decoration-color: #00af00\">0</span> (unbuilt) │\n",
       "└─────────────────────────────────┴────────────────────────┴───────────────┘\n",
       "</pre>\n"
      ],
      "text/plain": [
       "┏━━━━━━━━━━━━━━━━━━━━━━━━━━━━━━━━━┳━━━━━━━━━━━━━━━━━━━━━━━━┳━━━━━━━━━━━━━━━┓\n",
       "┃\u001b[1m \u001b[0m\u001b[1mLayer (type)                   \u001b[0m\u001b[1m \u001b[0m┃\u001b[1m \u001b[0m\u001b[1mOutput Shape          \u001b[0m\u001b[1m \u001b[0m┃\u001b[1m \u001b[0m\u001b[1m      Param #\u001b[0m\u001b[1m \u001b[0m┃\n",
       "┡━━━━━━━━━━━━━━━━━━━━━━━━━━━━━━━━━╇━━━━━━━━━━━━━━━━━━━━━━━━╇━━━━━━━━━━━━━━━┩\n",
       "│ embedding_22 (\u001b[38;5;33mEmbedding\u001b[0m)        │ ?                      │   \u001b[38;5;34m0\u001b[0m (unbuilt) │\n",
       "├─────────────────────────────────┼────────────────────────┼───────────────┤\n",
       "│ transformer_block_53            │ ?                      │   \u001b[38;5;34m0\u001b[0m (unbuilt) │\n",
       "│ (\u001b[38;5;33mTransformerBlock\u001b[0m)              │                        │               │\n",
       "├─────────────────────────────────┼────────────────────────┼───────────────┤\n",
       "│ transformer_block_54            │ ?                      │   \u001b[38;5;34m0\u001b[0m (unbuilt) │\n",
       "│ (\u001b[38;5;33mTransformerBlock\u001b[0m)              │                        │               │\n",
       "├─────────────────────────────────┼────────────────────────┼───────────────┤\n",
       "│ transformer_block_55            │ ?                      │   \u001b[38;5;34m0\u001b[0m (unbuilt) │\n",
       "│ (\u001b[38;5;33mTransformerBlock\u001b[0m)              │                        │               │\n",
       "├─────────────────────────────────┼────────────────────────┼───────────────┤\n",
       "│ transformer_block_56            │ ?                      │   \u001b[38;5;34m0\u001b[0m (unbuilt) │\n",
       "│ (\u001b[38;5;33mTransformerBlock\u001b[0m)              │                        │               │\n",
       "├─────────────────────────────────┼────────────────────────┼───────────────┤\n",
       "│ global_average_pooling1d_13     │ ?                      │             \u001b[38;5;34m0\u001b[0m │\n",
       "│ (\u001b[38;5;33mGlobalAveragePooling1D\u001b[0m)        │                        │               │\n",
       "├─────────────────────────────────┼────────────────────────┼───────────────┤\n",
       "│ dropout_127 (\u001b[38;5;33mDropout\u001b[0m)           │ ?                      │             \u001b[38;5;34m0\u001b[0m │\n",
       "├─────────────────────────────────┼────────────────────────┼───────────────┤\n",
       "│ dense_125 (\u001b[38;5;33mDense\u001b[0m)               │ ?                      │   \u001b[38;5;34m0\u001b[0m (unbuilt) │\n",
       "└─────────────────────────────────┴────────────────────────┴───────────────┘\n"
      ]
     },
     "metadata": {},
     "output_type": "display_data"
    },
    {
     "data": {
      "text/html": [
       "<pre style=\"white-space:pre;overflow-x:auto;line-height:normal;font-family:Menlo,'DejaVu Sans Mono',consolas,'Courier New',monospace\"><span style=\"font-weight: bold\"> Total params: </span><span style=\"color: #00af00; text-decoration-color: #00af00\">0</span> (0.00 B)\n",
       "</pre>\n"
      ],
      "text/plain": [
       "\u001b[1m Total params: \u001b[0m\u001b[38;5;34m0\u001b[0m (0.00 B)\n"
      ]
     },
     "metadata": {},
     "output_type": "display_data"
    },
    {
     "data": {
      "text/html": [
       "<pre style=\"white-space:pre;overflow-x:auto;line-height:normal;font-family:Menlo,'DejaVu Sans Mono',consolas,'Courier New',monospace\"><span style=\"font-weight: bold\"> Trainable params: </span><span style=\"color: #00af00; text-decoration-color: #00af00\">0</span> (0.00 B)\n",
       "</pre>\n"
      ],
      "text/plain": [
       "\u001b[1m Trainable params: \u001b[0m\u001b[38;5;34m0\u001b[0m (0.00 B)\n"
      ]
     },
     "metadata": {},
     "output_type": "display_data"
    },
    {
     "data": {
      "text/html": [
       "<pre style=\"white-space:pre;overflow-x:auto;line-height:normal;font-family:Menlo,'DejaVu Sans Mono',consolas,'Courier New',monospace\"><span style=\"font-weight: bold\"> Non-trainable params: </span><span style=\"color: #00af00; text-decoration-color: #00af00\">0</span> (0.00 B)\n",
       "</pre>\n"
      ],
      "text/plain": [
       "\u001b[1m Non-trainable params: \u001b[0m\u001b[38;5;34m0\u001b[0m (0.00 B)\n"
      ]
     },
     "metadata": {},
     "output_type": "display_data"
    },
    {
     "name": "stdout",
     "output_type": "stream",
     "text": [
      "Epoch 1/2\n",
      "\u001b[1m98/98\u001b[0m \u001b[32m━━━━━━━━━━━━━━━━━━━━\u001b[0m\u001b[37m\u001b[0m \u001b[1m336s\u001b[0m 3s/step - accuracy: 0.5972 - loss: 0.7596 - val_accuracy: 0.8382 - val_loss: 0.3684\n",
      "Epoch 2/2\n",
      "\u001b[1m98/98\u001b[0m \u001b[32m━━━━━━━━━━━━━━━━━━━━\u001b[0m\u001b[37m\u001b[0m \u001b[1m314s\u001b[0m 3s/step - accuracy: 0.8751 - loss: 0.2958 - val_accuracy: 0.8442 - val_loss: 0.3505\n"
     ]
    }
   ],
   "source": [
    "# Transformers modeli olustur ve train et\n",
    "\n",
    "# transformer mimarisini kullanan bir model sinifi\n",
    "# bu class inputlari alip transdormers bloklarindan gecir, cikis verilerini siniflandir\n",
    "class TransformerModel(models.Model):\n",
    "\n",
    "    # num_layers: transformer bloklarinin sayisi\n",
    "    # embed_size: girdi verilerinin embedding boyutu\n",
    "    # heads: her bir transformer blogundaki multi head attention sayisi\n",
    "    # input_dim: giristekii olasi token sayisi\n",
    "    # output_dim: modelin cikisindaki sinif boyutu\n",
    "    def __init__(self, num_layers, embed_size, heads, input_dim, output_dim, dropout_rate = 0.1):\n",
    "\n",
    "        # ust sinif olan models.Model siniftan init metodunu cagirarak temel model ozelliklerini baslatiyoruz\n",
    "        super(TransformerModel, self).__init__()\n",
    "\n",
    "        # girdileri(kelimeler, semboller) sayisallastiriliyor (surekli degerlerden olusan vektorler)\n",
    "        self.embedding = layers.Embedding(input_dim = input_dim, output_dim = embed_size)\n",
    "\n",
    "        # birden fazla transformer blogu olusturur\n",
    "        # num_layers kadar transformer blogu olusturur\n",
    "        self.transformer_blocks = [TransformerBlock(embed_size, heads, dropout_rate) for _ in range(num_layers)]\n",
    "\n",
    "        # global ortalama havuz katmani\n",
    "        self.global_avg_pooling = layers.GlobalAveragePooling1D()\n",
    "        self.dropout = layers.Dropout(dropout_rate)\n",
    "\n",
    "        # output layer\n",
    "        self.fc = layers.Dense(output_dim, activation = \"sigmoid\")\n",
    "\n",
    "    # girdinin model uzerinden nasil ilerleyecegin\n",
    "    def call(self, x, training=False):\n",
    "        \n",
    "        # token dizisi embedding katmanindan gecilir\n",
    "        # sonuc olarak tokenler sabit boyutlu vektorlere donusturulur\n",
    "        x = self.embedding(x)\n",
    "\n",
    "        # her bir transformer blogu sirayla calistirilir\n",
    "        for transformer in self.transformer_blocks:\n",
    "            x = transformer(x, training=training)\n",
    "\n",
    "        # average pooling\n",
    "        x = self.global_avg_pooling(x)\n",
    "        x = self.dropout(x, training=training)\n",
    "\n",
    "        # tam bagli katmana ileterek cikis hesaplanir\n",
    "        return self.fc(x)\n",
    "\n",
    "# model training\n",
    "\n",
    "# hyperparameter\n",
    "num_layers = 4 # transformer layer sayisi\n",
    "embed_size = 64\n",
    "num_heads = 4 # multi-head sayisi\n",
    "input_dim = max_features\n",
    "output_dim = 1 #ikili siniflandirma yani 1 (positive) ya da 0 (negative)\n",
    "dropout_rate = 0.1\n",
    "\n",
    "# modeli olusturma\n",
    "model = TransformerModel(num_layers, embed_size, num_heads, input_dim, output_dim, dropout_rate)\n",
    "\n",
    "# modeli bir giris verisi ile cagirarak insa edelim\n",
    "model.build(input_shape = (None, maxlen))\n",
    "\n",
    "# compile\n",
    "model.compile(optimizer = \"adam\", loss = \"binary_crossentropy\", metrics = [\"accuracy\"])\n",
    "model.summary()\n",
    "history = model.fit(x_train, y_train, epochs = 2, batch_size = 256, validation_data = (x_test, y_test))"
   ]
  },
  {
   "cell_type": "code",
   "execution_count": null,
   "id": "75505acd-b290-45ed-b9d6-9b0f599d6e9a",
   "metadata": {},
   "outputs": [
    {
     "data": {
      "image/png": "[encoded data removed]",
      "text/plain": [
       "<Figure size 640x480 with 1 Axes>"
      ]
     },
     "metadata": {},
     "output_type": "display_data"
    }
   ],
   "source": [
    "# Model testing\n",
    "\n",
    "plt.figure()\n",
    "plt.subplot(1, 2, 1)\n",
    "plt.plot(history.history[\"loss\"], label = \"Training Loss\")\n",
    "plt.plot(history.history[\"val_loss\"], label = \"Validation Loss\")\n",
    "plt.title(\"Loss\")\n",
    "plt.xlabel(\"Epochs\")\n",
    "plt.ylabel(\"Loss\")\n",
    "plt.grid(True)\n",
    "plt.legend()\n",
    "\n",
    "plt.subplot(1, 2, 1)\n",
    "plt.plot(history.history[\"accuracy\"], label = \"Training Accuracy\")\n",
    "plt.plot(history.history[\"val_accuracy\"], label = \"Validation Accuracy\")\n",
    "plt.title(\"Accuracy\")\n",
    "plt.xlabel(\"Epochs\")\n",
    "plt.ylabel(\"Accuracy\")\n",
    "plt.grid(True)\n",
    "plt.legend()\n",
    "\n",
    "plt.tight_layout()\n",
    "plt.show()\n",
    "\n",
    "# kullananin yazdigifilm yorumlarini degerlendir\n",
    "def predict_sentiment(model, etxt, word_index, maxlen):\n",
    "\n",
    "    # metni sayisal formata cevir\n",
    "    encoded_text = [word_index.get(word, 0) for word in text.lower().split()] # kelimeleri sayiya cevir\n",
    "\n",
    "    # padding\n",
    "    padded_text = pad_sequences([encoded_text], maxlen = maxlen)\n",
    "\n",
    "    # prediction: modeliniz yorumunuzun olumlu mu olumsu mu oldugunu tahmin etmeli\n",
    "    prediction = model.predict(padded_text) #model ile tahmin yap\n",
    "\n",
    "    return prediction[0][0]\n",
    "\n",
    "#imdb veri setindeki kelime dizisi\n",
    "word_index = imdb.get_word_index()\n",
    "\n",
    "#kullanicidan metin al\n",
    "user_input = input(\"Bir film yorumu yazin: \")\n",
    "sentiment_score = predict_sentiment(model, user_input, word_index, maxlen)\n",
    "\n",
    "print(sentiment_score)\n",
    "\n",
    "if sentiment_score > 0.5: #olumlu\n",
    "    print (f\"Tahmin sonucu %{int(round(sentiment_score*100,0))} olasiligi ile olumlu skor: {sentiment_score}\")\n",
    "else:\n",
    "    print (f\"Tahmin sonucu %{100 - int(round(sentiment_score*100,0))} olasiligi ile olumsuz skor: {sentiment_score}\")\n"
   ]
  },
  {
   "cell_type": "code",
   "execution_count": null,
   "id": "2d994864-3653-4264-b8a0-6398d3578c24",
   "metadata": {},
   "outputs": [],
   "source": []
  }
 ],
 "metadata": {
  "kernelspec": {
   "display_name": "Python [conda env:base] *",
   "language": "python",
   "name": "conda-base-py"
  },
  "language_info": {
   "codemirror_mode": {
    "name": "ipython",
    "version": 3
   },
   "file_extension": ".py",
   "mimetype": "text/x-python",
   "name": "python",
   "nbconvert_exporter": "python",
   "pygments_lexer": "ipython3",
   "version": "3.12.9"
  }
 },
 "nbformat": 4,
 "nbformat_minor": 5
}
